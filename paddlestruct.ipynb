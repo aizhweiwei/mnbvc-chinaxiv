{
 "cells": [
  {
   "cell_type": "code",
   "execution_count": 1,
   "metadata": {},
   "outputs": [],
   "source": [
    "\n",
    "\n",
    "import os\n",
    "import cv2\n",
    "import numpy as np\n",
    "from paddleocr import PPStructure,save_structure_res\n",
    "from paddle.utils import try_import\n",
    "from PIL import Image\n",
    "\n"
   ]
  },
  {
   "cell_type": "code",
   "execution_count": 2,
   "metadata": {},
   "outputs": [
    {
     "name": "stdout",
     "output_type": "stream",
     "text": [
      "[2024/07/31 14:30:27] ppocr DEBUG: Namespace(help='==SUPPRESS==', use_gpu=True, use_xpu=False, use_npu=False, use_mlu=False, ir_optim=True, use_tensorrt=False, min_subgraph_size=15, precision='fp32', gpu_mem=500, gpu_id=0, image_dir=None, page_num=0, det_algorithm='DB', det_model_dir='/root/.paddleocr/whl/det/ch/ch_PP-OCRv4_det_infer', det_limit_side_len=960, det_limit_type='max', det_box_type='quad', det_db_thresh=0.3, det_db_box_thresh=0.6, det_db_unclip_ratio=1.5, max_batch_size=10, use_dilation=False, det_db_score_mode='fast', det_east_score_thresh=0.8, det_east_cover_thresh=0.1, det_east_nms_thresh=0.2, det_sast_score_thresh=0.5, det_sast_nms_thresh=0.2, det_pse_thresh=0, det_pse_box_thresh=0.85, det_pse_min_area=16, det_pse_scale=1, scales=[8, 16, 32], alpha=1.0, beta=1.0, fourier_degree=5, rec_algorithm='SVTR_LCNet', rec_model_dir='/root/.paddleocr/whl/rec/ch/ch_PP-OCRv4_rec_infer', rec_image_inverse=True, rec_image_shape='3, 48, 320', rec_batch_num=6, max_text_length=25, rec_char_dict_path='/root/.conda/envs/ganzhang/lib/python3.11/site-packages/paddleocr/ppocr/utils/ppocr_keys_v1.txt', use_space_char=True, vis_font_path='./doc/fonts/simfang.ttf', drop_score=0.5, e2e_algorithm='PGNet', e2e_model_dir=None, e2e_limit_side_len=768, e2e_limit_type='max', e2e_pgnet_score_thresh=0.5, e2e_char_dict_path='./ppocr/utils/ic15_dict.txt', e2e_pgnet_valid_set='totaltext', e2e_pgnet_mode='fast', use_angle_cls=False, cls_model_dir=None, cls_image_shape='3, 48, 192', label_list=['0', '180'], cls_batch_num=6, cls_thresh=0.9, enable_mkldnn=False, cpu_threads=10, use_pdserving=False, warmup=False, sr_model_dir=None, sr_image_shape='3, 32, 128', sr_batch_num=1, draw_img_save_dir='./inference_results', save_crop_res=False, crop_res_save_dir='./output', use_mp=False, total_process_num=1, process_id=0, benchmark=False, save_log_path='./log_output/', show_log=True, use_onnx=False, return_word_box=False, output='./output', table_max_len=488, table_algorithm='TableAttn', table_model_dir='/root/.paddleocr/whl/table/ch_ppstructure_mobile_v2.0_SLANet_infer', merge_no_span_structure=True, table_char_dict_path='/root/.conda/envs/ganzhang/lib/python3.11/site-packages/paddleocr/ppocr/utils/dict/table_structure_dict_ch.txt', layout_model_dir='/root/.paddleocr/whl/layout/picodet_lcnet_x1_0_fgd_layout_cdla_infer', layout_dict_path='/root/.conda/envs/ganzhang/lib/python3.11/site-packages/paddleocr/ppocr/utils/dict/layout_dict/layout_cdla_dict.txt', layout_score_threshold=0.5, layout_nms_threshold=0.5, kie_algorithm='LayoutXLM', ser_model_dir=None, re_model_dir=None, use_visual_backbone=True, ser_dict_path='../train_data/XFUND/class_list_xfun.txt', ocr_order_method=None, mode='structure', image_orientation=False, layout=True, table=False, ocr=True, recovery=False, use_pdf2docx_api=False, invert=False, binarize=False, alphacolor=(255, 255, 255), lang='ch', det=True, rec=True, type='ocr', savefile=False, ocr_version='PP-OCRv4', structure_version='PP-StructureV2')\n",
      "[2024/07/31 14:30:42] ppocr DEBUG: dt_boxes num : 58, elapsed : 0.5514369010925293\n"
     ]
    },
    {
     "ename": "MemoryError",
     "evalue": "\n\n--------------------------------------\nC++ Traceback (most recent call last):\n--------------------------------------\n0   paddle::AnalysisPredictor::ZeroCopyRun()\n1   paddle::framework::NaiveExecutor::Run()\n2   paddle::framework::OperatorBase::Run(paddle::framework::Scope const&, phi::Place const&)\n3   paddle::framework::OperatorWithKernel::RunImpl(paddle::framework::Scope const&, phi::Place const&) const\n4   paddle::framework::OperatorWithKernel::RunImpl(paddle::framework::Scope const&, phi::Place const&, paddle::framework::RuntimeContext*) const\n5   void phi::HardSwishKernel<float, phi::GPUContext>(phi::GPUContext const&, phi::DenseTensor const&, phi::DenseTensor*)\n6   void phi::ActivationGPUImpl<float, phi::GPUContext, phi::funcs::CudaHardSwishFunctor<float> >(phi::GPUContext const&, phi::DenseTensor const&, phi::DenseTensor*, phi::funcs::CudaHardSwishFunctor<float> const&)\n7   float* phi::DeviceContext::Alloc<float>(phi::TensorBase*, unsigned long, bool) const\n8   phi::DeviceContext::Impl::Alloc(phi::TensorBase*, phi::Place const&, phi::DataType, unsigned long, bool, bool) const\n9   phi::DenseTensor::AllocateFrom(phi::Allocator*, phi::DataType, unsigned long, bool)\n10  paddle::memory::allocation::Allocator::Allocate(unsigned long)\n11  paddle::memory::allocation::StatAllocator::AllocateImpl(unsigned long)\n12  paddle::memory::allocation::Allocator::Allocate(unsigned long)\n13  paddle::memory::allocation::Allocator::Allocate(unsigned long)\n14  paddle::memory::allocation::Allocator::Allocate(unsigned long)\n15  paddle::memory::allocation::Allocator::Allocate(unsigned long)\n16  paddle::memory::allocation::CUDAAllocator::AllocateImpl(unsigned long)\n17  std::string phi::enforce::GetCompleteTraceBackString<std::string >(std::string&&, char const*, int)\n18  phi::enforce::GetCurrentTraceBackString[abi:cxx11](bool)\n\n----------------------\nError Message Summary:\n----------------------\nResourceExhaustedError: \n\nOut of memory error on GPU 0. Cannot allocate 22.214355MB memory on GPU 0, 7.972656GB memory has been allocated and available memory is only 18.000000MB.\n\nPlease check whether there is any other process using GPU 0.\n1. If yes, please stop them, or start PaddlePaddle on another GPU.\n2. If no, please decrease the batch size of your model. \n (at /paddle/paddle/fluid/memory/allocation/cuda_allocator.cc:86)\n",
     "output_type": "error",
     "traceback": [
      "\u001b[0;31m---------------------------------------------------------------------------\u001b[0m",
      "\u001b[0;31mMemoryError\u001b[0m                               Traceback (most recent call last)",
      "Cell \u001b[0;32mIn[2], line 23\u001b[0m\n\u001b[1;32m     20\u001b[0m         imgs\u001b[38;5;241m.\u001b[39mappend(img)\n\u001b[1;32m     22\u001b[0m \u001b[38;5;28;01mfor\u001b[39;00m index, img \u001b[38;5;129;01min\u001b[39;00m \u001b[38;5;28menumerate\u001b[39m(imgs):\n\u001b[0;32m---> 23\u001b[0m     result \u001b[38;5;241m=\u001b[39m \u001b[43mocr_engine\u001b[49m\u001b[43m(\u001b[49m\u001b[43mimg\u001b[49m\u001b[43m)\u001b[49m\n\u001b[1;32m     24\u001b[0m     save_structure_res(result, save_folder, os\u001b[38;5;241m.\u001b[39mpath\u001b[38;5;241m.\u001b[39mbasename(img_path)\u001b[38;5;241m.\u001b[39msplit(\u001b[38;5;124m'\u001b[39m\u001b[38;5;124m.\u001b[39m\u001b[38;5;124m'\u001b[39m)[\u001b[38;5;241m0\u001b[39m], index)\n\u001b[1;32m     25\u001b[0m     \u001b[38;5;28;01mfor\u001b[39;00m line \u001b[38;5;129;01min\u001b[39;00m result:\n",
      "File \u001b[0;32m~/.conda/envs/ganzhang/lib/python3.11/site-packages/paddleocr/paddleocr.py:855\u001b[0m, in \u001b[0;36mPPStructure.__call__\u001b[0;34m(self, img, return_ocr_result_in_table, img_idx, alpha_color)\u001b[0m\n\u001b[1;32m    853\u001b[0m         res_list\u001b[38;5;241m.\u001b[39mappend(res)\n\u001b[1;32m    854\u001b[0m     \u001b[38;5;28;01mreturn\u001b[39;00m res_list\n\u001b[0;32m--> 855\u001b[0m res, _ \u001b[38;5;241m=\u001b[39m \u001b[38;5;28;43msuper\u001b[39;49m\u001b[43m(\u001b[49m\u001b[43m)\u001b[49m\u001b[38;5;241;43m.\u001b[39;49m\u001b[38;5;21;43m__call__\u001b[39;49m\u001b[43m(\u001b[49m\u001b[43mimg\u001b[49m\u001b[43m,\u001b[49m\u001b[43m \u001b[49m\u001b[43mreturn_ocr_result_in_table\u001b[49m\u001b[43m,\u001b[49m\u001b[43m \u001b[49m\u001b[43mimg_idx\u001b[49m\u001b[38;5;241;43m=\u001b[39;49m\u001b[43mimg_idx\u001b[49m\u001b[43m)\u001b[49m\n\u001b[1;32m    856\u001b[0m \u001b[38;5;28;01mreturn\u001b[39;00m res\n",
      "File \u001b[0;32m~/.conda/envs/ganzhang/lib/python3.11/site-packages/paddleocr/ppstructure/predict_system.py:135\u001b[0m, in \u001b[0;36mStructureSystem.__call__\u001b[0;34m(self, img, return_ocr_result_in_table, img_idx)\u001b[0m\n\u001b[1;32m    133\u001b[0m text_res \u001b[38;5;241m=\u001b[39m \u001b[38;5;28;01mNone\u001b[39;00m\n\u001b[1;32m    134\u001b[0m \u001b[38;5;28;01mif\u001b[39;00m \u001b[38;5;28mself\u001b[39m\u001b[38;5;241m.\u001b[39mtext_system \u001b[38;5;129;01mis\u001b[39;00m \u001b[38;5;129;01mnot\u001b[39;00m \u001b[38;5;28;01mNone\u001b[39;00m:\n\u001b[0;32m--> 135\u001b[0m     text_res, ocr_time_dict \u001b[38;5;241m=\u001b[39m \u001b[38;5;28;43mself\u001b[39;49m\u001b[38;5;241;43m.\u001b[39;49m\u001b[43m_predict_text\u001b[49m\u001b[43m(\u001b[49m\u001b[43mimg\u001b[49m\u001b[43m)\u001b[49m\n\u001b[1;32m    136\u001b[0m     time_dict[\u001b[38;5;124m\"\u001b[39m\u001b[38;5;124mdet\u001b[39m\u001b[38;5;124m\"\u001b[39m] \u001b[38;5;241m+\u001b[39m\u001b[38;5;241m=\u001b[39m ocr_time_dict[\u001b[38;5;124m\"\u001b[39m\u001b[38;5;124mdet\u001b[39m\u001b[38;5;124m\"\u001b[39m]\n\u001b[1;32m    137\u001b[0m     time_dict[\u001b[38;5;124m\"\u001b[39m\u001b[38;5;124mrec\u001b[39m\u001b[38;5;124m\"\u001b[39m] \u001b[38;5;241m+\u001b[39m\u001b[38;5;241m=\u001b[39m ocr_time_dict[\u001b[38;5;124m\"\u001b[39m\u001b[38;5;124mrec\u001b[39m\u001b[38;5;124m\"\u001b[39m]\n",
      "File \u001b[0;32m~/.conda/envs/ganzhang/lib/python3.11/site-packages/paddleocr/ppstructure/predict_system.py:189\u001b[0m, in \u001b[0;36mStructureSystem._predict_text\u001b[0;34m(self, img)\u001b[0m\n\u001b[1;32m    188\u001b[0m \u001b[38;5;28;01mdef\u001b[39;00m \u001b[38;5;21m_predict_text\u001b[39m(\u001b[38;5;28mself\u001b[39m, img):\n\u001b[0;32m--> 189\u001b[0m     filter_boxes, filter_rec_res, ocr_time_dict \u001b[38;5;241m=\u001b[39m \u001b[38;5;28;43mself\u001b[39;49m\u001b[38;5;241;43m.\u001b[39;49m\u001b[43mtext_system\u001b[49m\u001b[43m(\u001b[49m\u001b[43mimg\u001b[49m\u001b[43m)\u001b[49m\n\u001b[1;32m    191\u001b[0m     \u001b[38;5;66;03m# remove style char,\u001b[39;00m\n\u001b[1;32m    192\u001b[0m     \u001b[38;5;66;03m# when using the recognition model trained on the PubtabNet dataset,\u001b[39;00m\n\u001b[1;32m    193\u001b[0m     \u001b[38;5;66;03m# it will recognize the text format in the table, such as <b>\u001b[39;00m\n\u001b[1;32m    194\u001b[0m     style_token \u001b[38;5;241m=\u001b[39m [\n\u001b[1;32m    195\u001b[0m         \u001b[38;5;124m\"\u001b[39m\u001b[38;5;124m<strike>\u001b[39m\u001b[38;5;124m\"\u001b[39m,\n\u001b[1;32m    196\u001b[0m         \u001b[38;5;124m\"\u001b[39m\u001b[38;5;124m<strike>\u001b[39m\u001b[38;5;124m\"\u001b[39m,\n\u001b[0;32m   (...)\u001b[0m\n\u001b[1;32m    208\u001b[0m         \u001b[38;5;124m\"\u001b[39m\u001b[38;5;124m</i>\u001b[39m\u001b[38;5;124m\"\u001b[39m,\n\u001b[1;32m    209\u001b[0m     ]\n",
      "File \u001b[0;32m~/.conda/envs/ganzhang/lib/python3.11/site-packages/paddleocr/tools/infer/predict_system.py:144\u001b[0m, in \u001b[0;36mTextSystem.__call__\u001b[0;34m(self, img, cls, slice)\u001b[0m\n\u001b[1;32m    139\u001b[0m \u001b[38;5;28;01mif\u001b[39;00m \u001b[38;5;28mlen\u001b[39m(img_crop_list) \u001b[38;5;241m>\u001b[39m \u001b[38;5;241m1000\u001b[39m:\n\u001b[1;32m    140\u001b[0m     logger\u001b[38;5;241m.\u001b[39mdebug(\n\u001b[1;32m    141\u001b[0m         \u001b[38;5;124mf\u001b[39m\u001b[38;5;124m\"\u001b[39m\u001b[38;5;124mrec crops num: \u001b[39m\u001b[38;5;132;01m{\u001b[39;00m\u001b[38;5;28mlen\u001b[39m(img_crop_list)\u001b[38;5;132;01m}\u001b[39;00m\u001b[38;5;124m, time and memory cost may be large.\u001b[39m\u001b[38;5;124m\"\u001b[39m\n\u001b[1;32m    142\u001b[0m     )\n\u001b[0;32m--> 144\u001b[0m rec_res, elapse \u001b[38;5;241m=\u001b[39m \u001b[38;5;28;43mself\u001b[39;49m\u001b[38;5;241;43m.\u001b[39;49m\u001b[43mtext_recognizer\u001b[49m\u001b[43m(\u001b[49m\u001b[43mimg_crop_list\u001b[49m\u001b[43m)\u001b[49m\n\u001b[1;32m    145\u001b[0m time_dict[\u001b[38;5;124m\"\u001b[39m\u001b[38;5;124mrec\u001b[39m\u001b[38;5;124m\"\u001b[39m] \u001b[38;5;241m=\u001b[39m elapse\n\u001b[1;32m    146\u001b[0m logger\u001b[38;5;241m.\u001b[39mdebug(\u001b[38;5;124m\"\u001b[39m\u001b[38;5;124mrec_res num  : \u001b[39m\u001b[38;5;132;01m{}\u001b[39;00m\u001b[38;5;124m, elapsed : \u001b[39m\u001b[38;5;132;01m{}\u001b[39;00m\u001b[38;5;124m\"\u001b[39m\u001b[38;5;241m.\u001b[39mformat(\u001b[38;5;28mlen\u001b[39m(rec_res), elapse))\n",
      "File \u001b[0;32m~/.conda/envs/ganzhang/lib/python3.11/site-packages/paddleocr/tools/infer/predict_rec.py:677\u001b[0m, in \u001b[0;36mTextRecognizer.__call__\u001b[0;34m(self, img_list)\u001b[0m\n\u001b[1;32m    675\u001b[0m \u001b[38;5;28;01melse\u001b[39;00m:\n\u001b[1;32m    676\u001b[0m     \u001b[38;5;28mself\u001b[39m\u001b[38;5;241m.\u001b[39minput_tensor\u001b[38;5;241m.\u001b[39mcopy_from_cpu(norm_img_batch)\n\u001b[0;32m--> 677\u001b[0m     \u001b[38;5;28;43mself\u001b[39;49m\u001b[38;5;241;43m.\u001b[39;49m\u001b[43mpredictor\u001b[49m\u001b[38;5;241;43m.\u001b[39;49m\u001b[43mrun\u001b[49m\u001b[43m(\u001b[49m\u001b[43m)\u001b[49m\n\u001b[1;32m    678\u001b[0m     outputs \u001b[38;5;241m=\u001b[39m []\n\u001b[1;32m    679\u001b[0m     \u001b[38;5;28;01mfor\u001b[39;00m output_tensor \u001b[38;5;129;01min\u001b[39;00m \u001b[38;5;28mself\u001b[39m\u001b[38;5;241m.\u001b[39moutput_tensors:\n",
      "\u001b[0;31mMemoryError\u001b[0m: \n\n--------------------------------------\nC++ Traceback (most recent call last):\n--------------------------------------\n0   paddle::AnalysisPredictor::ZeroCopyRun()\n1   paddle::framework::NaiveExecutor::Run()\n2   paddle::framework::OperatorBase::Run(paddle::framework::Scope const&, phi::Place const&)\n3   paddle::framework::OperatorWithKernel::RunImpl(paddle::framework::Scope const&, phi::Place const&) const\n4   paddle::framework::OperatorWithKernel::RunImpl(paddle::framework::Scope const&, phi::Place const&, paddle::framework::RuntimeContext*) const\n5   void phi::HardSwishKernel<float, phi::GPUContext>(phi::GPUContext const&, phi::DenseTensor const&, phi::DenseTensor*)\n6   void phi::ActivationGPUImpl<float, phi::GPUContext, phi::funcs::CudaHardSwishFunctor<float> >(phi::GPUContext const&, phi::DenseTensor const&, phi::DenseTensor*, phi::funcs::CudaHardSwishFunctor<float> const&)\n7   float* phi::DeviceContext::Alloc<float>(phi::TensorBase*, unsigned long, bool) const\n8   phi::DeviceContext::Impl::Alloc(phi::TensorBase*, phi::Place const&, phi::DataType, unsigned long, bool, bool) const\n9   phi::DenseTensor::AllocateFrom(phi::Allocator*, phi::DataType, unsigned long, bool)\n10  paddle::memory::allocation::Allocator::Allocate(unsigned long)\n11  paddle::memory::allocation::StatAllocator::AllocateImpl(unsigned long)\n12  paddle::memory::allocation::Allocator::Allocate(unsigned long)\n13  paddle::memory::allocation::Allocator::Allocate(unsigned long)\n14  paddle::memory::allocation::Allocator::Allocate(unsigned long)\n15  paddle::memory::allocation::Allocator::Allocate(unsigned long)\n16  paddle::memory::allocation::CUDAAllocator::AllocateImpl(unsigned long)\n17  std::string phi::enforce::GetCompleteTraceBackString<std::string >(std::string&&, char const*, int)\n18  phi::enforce::GetCurrentTraceBackString[abi:cxx11](bool)\n\n----------------------\nError Message Summary:\n----------------------\nResourceExhaustedError: \n\nOut of memory error on GPU 0. Cannot allocate 22.214355MB memory on GPU 0, 7.972656GB memory has been allocated and available memory is only 18.000000MB.\n\nPlease check whether there is any other process using GPU 0.\n1. If yes, please stop them, or start PaddlePaddle on another GPU.\n2. If no, please decrease the batch size of your model. \n (at /paddle/paddle/fluid/memory/allocation/cuda_allocator.cc:86)\n"
     ]
    }
   ],
   "source": [
    "ocr_engine = PPStructure(table=False, ocr=True, show_log=True)\n",
    "\n",
    "save_folder = './output'\n",
    "img_path = './data/201804.01732v1.pdf'\n",
    "\n",
    "fitz = try_import(\"fitz\")\n",
    "imgs = []\n",
    "with fitz.open(img_path) as pdf:\n",
    "    for pg in range(0, pdf.page_count):\n",
    "        page = pdf[pg]\n",
    "        mat = fitz.Matrix(2, 2)\n",
    "        pm = page.get_pixmap(matrix=mat, alpha=False)\n",
    "\n",
    "        # if width or height > 2000 pixels, don't enlarge the image\n",
    "        if pm.width > 2000 or pm.height > 2000:\n",
    "            pm = page.get_pixmap(matrix=fitz.Matrix(1, 1), alpha=False)\n",
    "\n",
    "        img = Image.frombytes(\"RGB\", [pm.width, pm.height], pm.samples)\n",
    "        img = cv2.cvtColor(np.array(img), cv2.COLOR_RGB2BGR)\n",
    "        imgs.append(img)\n",
    "\n",
    "for index, img in enumerate(imgs):\n",
    "    result = ocr_engine(img)\n",
    "    save_structure_res(result, save_folder, os.path.basename(img_path).split('.')[0], index)\n",
    "    for line in result:\n",
    "        line.pop('img')\n",
    "        print(line)"
   ]
  },
  {
   "cell_type": "code",
   "execution_count": null,
   "metadata": {},
   "outputs": [],
   "source": []
  }
 ],
 "metadata": {
  "kernelspec": {
   "display_name": "ganzhang",
   "language": "python",
   "name": "python3"
  },
  "language_info": {
   "codemirror_mode": {
    "name": "ipython",
    "version": 3
   },
   "file_extension": ".py",
   "mimetype": "text/x-python",
   "name": "python",
   "nbconvert_exporter": "python",
   "pygments_lexer": "ipython3",
   "version": "3.11.9"
  }
 },
 "nbformat": 4,
 "nbformat_minor": 2
}
